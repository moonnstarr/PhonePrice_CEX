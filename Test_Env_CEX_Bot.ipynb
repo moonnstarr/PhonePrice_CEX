{
 "cells": [
  {
   "cell_type": "code",
   "execution_count": 1,
   "id": "21347cfe",
   "metadata": {},
   "outputs": [],
   "source": [
    "import pandas as pd\n",
    "import xlwings as xw\n",
    "from selenium import webdriver\n",
    "from selenium.webdriver import ChromeOptions\n",
    "from selenium.webdriver.common.by import By\n",
    "from selenium.webdriver.support.ui import WebDriverWait\n",
    "from selenium.webdriver.support import expected_conditions as EC\n",
    "import pythoncom"
   ]
  },
  {
   "cell_type": "code",
   "execution_count": 2,
   "id": "ab328719",
   "metadata": {},
   "outputs": [
    {
     "name": "stdout",
     "output_type": "stream",
     "text": [
      "                        Name Capacity  Color Grade  Qty        Cost\n",
      "0           Galaxy A31 A315G     64GB    NaN     C    8  140.000000\n",
      "1     Galaxy A5 (2016) A510F     16GB    NaN     A   16   56.050132\n",
      "2  Galaxy A5 (2017) SM-A520F     32GB    NaN     C   11  102.758576\n",
      "3       Galaxy A52s 5G A528B    128GB    NaN     C    8   65.000000\n",
      "4           Galaxy A6 A600FN     32GB    NaN     C   27  500.000000\n",
      "5           Galaxy J6 J600FN     32GB    NaN     A    6  103.000000\n",
      "6        Galaxy M11 SM-M115F     32GB    NaN     A   11  103.000000\n",
      "7        Galaxy M13 SM-M135F     64GB    NaN     A    6   75.000000\n",
      "8  Galaxy Note 10 Lite N770F    128GB    NaN     C   30   75.000000\n"
     ]
    }
   ],
   "source": [
    "# gsheet_id = '1AUqkl6Nd9gRUooxtWiVrKUnvV_aXNQ2sAbCdvbBcxnQ'\n",
    "# sheet_name = 'price'\n",
    "# gsheet_url = f'https://docs.google.com/spreadsheets/d/{gsheet_id}/gviz/tq?tqx=out:csv&sheet={sheet_name}'\n",
    "#\n",
    "# phone_list = pd.read_csv(gsheet_url)\n",
    "phone_list = pd.read_csv(\"stock.csv\")\n",
    "print(phone_list)"
   ]
  },
  {
   "cell_type": "code",
   "execution_count": 3,
   "outputs": [
    {
     "name": "stdout",
     "output_type": "stream",
     "text": [
      "C\n",
      "A\n",
      "C\n",
      "C\n",
      "C\n",
      "A\n",
      "A\n",
      "A\n",
      "C\n"
     ]
    }
   ],
   "source": [
    "for i, row in phone_list.iterrows():\n",
    "    print(row[3])"
   ],
   "metadata": {
    "collapsed": false,
    "pycharm": {
     "name": "#%%\n"
    }
   }
  },
  {
   "cell_type": "code",
   "execution_count": 4,
   "outputs": [],
   "source": [
    "def retrieve_data():\n",
    "    # Initialize the COM subsystem\n",
    "    pythoncom.CoInitialize()\n",
    "\n",
    "    main_df = pd.DataFrame(columns=['model',\n",
    "                                    # 'category',\n",
    "                                    'grade',\n",
    "                                    # 'wesell',\n",
    "                                    'webuy_cash',\n",
    "                                    # 'webuy_voucher',\n",
    "                                    'low_margin %',\n",
    "                                    'mid_margin %',\n",
    "                                    'high_margin %'])\n",
    "\n",
    "\n",
    "    grade = phone_list[['Grade']]\n",
    "    for i, row in phone_list.iterrows():\n",
    "        # website = f\"https://uk.webuy.com/search?stext=+{row[0]}+&Grade={row[3]}+&Capacity={row[1]}&Main%2520Colour={row[2]}\"\n",
    "        website = f\"https://uk.webuy.com/search?stext=+{row[0:2]}+&Grade={row[3]}\"\n",
    "        # Selenium and Chrome webscraping configs\n",
    "\n",
    "         # headless chrome option\n",
    "        user_agent = \"Mozilla/5.0 (Windows NT 10.0; Win64; x64; rv:109.0) Gecko/20100101 Firefox/110.0\"\n",
    "\n",
    "        options = webdriver.ChromeOptions()\n",
    "        # options.headless = True\n",
    "        options.add_argument('--headless')\n",
    "        options.add_argument(f'user-agent={user_agent}')\n",
    "        options.add_argument(\"--window-size=1920,1080\")\n",
    "        options.add_argument('--ignore-certificate-errors')\n",
    "        options.add_argument('--allow-running-insecure-content')\n",
    "        options.add_argument(\"--disable-extensions\")\n",
    "        options.add_argument(\"--proxy-server='direct://'\")\n",
    "        options.add_argument(\"--proxy-bypass-list=*\")\n",
    "        options.add_argument(\"--start-maximized\")\n",
    "        options.add_argument('--disable-gpu')\n",
    "        options.add_argument('--disable-dev-shm-usage')\n",
    "        options.add_argument('--no-sandbox')\n",
    "        # driver = webdriver.Chrome(executable_path=\"chromedriver.exe\", options=options)\n",
    "        driver = webdriver.Chrome(options=options)\n",
    "        driver.get(website)\n",
    "\n",
    "        # Wait for the cookie acceptance button to be visible\n",
    "        wait = WebDriverWait(driver, 10)\n",
    "        cookie_button = wait.until(EC.visibility_of_element_located((By.ID, \"onetrust-accept-btn-handler\")))\n",
    "\n",
    "        # Click the acceptance button\n",
    "        cookie_button.click()\n",
    "\n",
    "        # Extracting the data from the website\n",
    "        phone_models = driver.find_elements(By.XPATH, \"//div[@class='desc']\")\n",
    "\n",
    "        # List to append the extracted data\n",
    "        model = []\n",
    "        # device = []\n",
    "        grade = []\n",
    "        # wesell = []\n",
    "        webuy_cash = []\n",
    "        # webuy_voucher = []\n",
    "        low_margin = []\n",
    "        mid_margin = []\n",
    "        high_margin = []\n",
    "\n",
    "        # Looping through each phone search results to get the values\n",
    "        for models in phone_models:\n",
    "            name = models.find_element(By.XPATH, \".//span[@class='ais-Highlight']\").text\n",
    "            model.append(name)\n",
    "            # device.append(models.find_element(By.XPATH, \"./p\").text)\n",
    "            grade.append(str(name)[-1])\n",
    "            # wesell.append(models.find_element(By.XPATH, \".//div[starts-with(@class,'priceTxt') and starts-with(text(),'WeSell for')]\").text)\n",
    "            webuy_cash.append(models.find_element(By.XPATH, \".//div[starts-with(@class,'priceTxt') and starts-with(text(),'WeBuy for cash')]\").text)\n",
    "            # webuy_voucher.append(models.find_element(By.XPATH, \".//div[starts-with(@class,'priceTxt') and starts-with(text(),'WeBuy for voucher')]\").text)\n",
    "            low_margin.append(0.20)\n",
    "            mid_margin.append(0.25)\n",
    "            high_margin.append(0.30)\n",
    "\n",
    "        # Rearranging the data into a data frame\n",
    "        df = pd.DataFrame({'model': model,\n",
    "                           # 'category': device,\n",
    "                           'grade': grade,\n",
    "                           # 'wesell': wesell,\n",
    "                           'webuy_cash': webuy_cash,\n",
    "                           # 'webuy_voucher': webuy_voucher,\n",
    "                           'low_margin %': low_margin,\n",
    "                           'mid_margin %': mid_margin,\n",
    "                           'high_margin %': high_margin})\n",
    "\n",
    "        first_row = df[:1]\n",
    "\n",
    "        main_df = main_df.append(first_row, ignore_index=True)\n",
    "\n",
    "    return main_df"
   ],
   "metadata": {
    "collapsed": false,
    "pycharm": {
     "name": "#%%\n"
    }
   }
  },
  {
   "cell_type": "code",
   "execution_count": 5,
   "outputs": [
    {
     "name": "stderr",
     "output_type": "stream",
     "text": [
      "C:\\Users\\mrmra\\AppData\\Local\\Temp\\ipykernel_25100\\3301846072.py:90: FutureWarning: The frame.append method is deprecated and will be removed from pandas in a future version. Use pandas.concat instead.\n",
      "  main_df = main_df.append(first_row, ignore_index=True)\n",
      "C:\\Users\\mrmra\\AppData\\Local\\Temp\\ipykernel_25100\\3301846072.py:90: FutureWarning: The frame.append method is deprecated and will be removed from pandas in a future version. Use pandas.concat instead.\n",
      "  main_df = main_df.append(first_row, ignore_index=True)\n",
      "C:\\Users\\mrmra\\AppData\\Local\\Temp\\ipykernel_25100\\3301846072.py:90: FutureWarning: The frame.append method is deprecated and will be removed from pandas in a future version. Use pandas.concat instead.\n",
      "  main_df = main_df.append(first_row, ignore_index=True)\n",
      "C:\\Users\\mrmra\\AppData\\Local\\Temp\\ipykernel_25100\\3301846072.py:90: FutureWarning: The frame.append method is deprecated and will be removed from pandas in a future version. Use pandas.concat instead.\n",
      "  main_df = main_df.append(first_row, ignore_index=True)\n",
      "C:\\Users\\mrmra\\AppData\\Local\\Temp\\ipykernel_25100\\3301846072.py:90: FutureWarning: The frame.append method is deprecated and will be removed from pandas in a future version. Use pandas.concat instead.\n",
      "  main_df = main_df.append(first_row, ignore_index=True)\n",
      "C:\\Users\\mrmra\\AppData\\Local\\Temp\\ipykernel_25100\\3301846072.py:90: FutureWarning: The frame.append method is deprecated and will be removed from pandas in a future version. Use pandas.concat instead.\n",
      "  main_df = main_df.append(first_row, ignore_index=True)\n",
      "C:\\Users\\mrmra\\AppData\\Local\\Temp\\ipykernel_25100\\3301846072.py:90: FutureWarning: The frame.append method is deprecated and will be removed from pandas in a future version. Use pandas.concat instead.\n",
      "  main_df = main_df.append(first_row, ignore_index=True)\n",
      "C:\\Users\\mrmra\\AppData\\Local\\Temp\\ipykernel_25100\\3301846072.py:90: FutureWarning: The frame.append method is deprecated and will be removed from pandas in a future version. Use pandas.concat instead.\n",
      "  main_df = main_df.append(first_row, ignore_index=True)\n",
      "C:\\Users\\mrmra\\AppData\\Local\\Temp\\ipykernel_25100\\3301846072.py:90: FutureWarning: The frame.append method is deprecated and will be removed from pandas in a future version. Use pandas.concat instead.\n",
      "  main_df = main_df.append(first_row, ignore_index=True)\n"
     ]
    },
    {
     "data": {
      "text/plain": "                                               model grade  \\\n0  Samsung Galaxy Tab A T280 7.0\" (2016) 8GB Blac...     C   \n1    Samsung Galaxy A5 A510F (2016) 16GB Black, O2 A     A   \n2  Samsung Galaxy A5 A520F (2017) 32GB Black, Unl...     C   \n3  Samsung Galaxy A52s 5G Dual Sim (6GB+128GB) Aw...     C   \n4    Samsung Galaxy A6 (2018) 32GB Black, Unlocked C     C   \n5  Samsung Galaxy SM-T290 Tab A 8.0\" (2019) 32GB ...     A   \n6    Samsung Galaxy Tab 3 SM-T211 7\" 8GB, Unlocked A     A   \n7  Samsung Galaxy Note 10 Lite Dual Sim 128GB Aur...     C   \n\n               webuy_cash  low_margin %  mid_margin %  high_margin %  \n0   WeBuy for cash £16.00           0.2          0.25            0.3  \n1   WeBuy for cash £37.00           0.2          0.25            0.3  \n2   WeBuy for cash £39.00           0.2          0.25            0.3  \n3  WeBuy for cash £110.00           0.2          0.25            0.3  \n4   WeBuy for cash £43.00           0.2          0.25            0.3  \n5   WeBuy for cash £42.00           0.2          0.25            0.3  \n6   WeBuy for cash £19.00           0.2          0.25            0.3  \n7  WeBuy for cash £101.00           0.2          0.25            0.3  ",
      "text/html": "<div>\n<style scoped>\n    .dataframe tbody tr th:only-of-type {\n        vertical-align: middle;\n    }\n\n    .dataframe tbody tr th {\n        vertical-align: top;\n    }\n\n    .dataframe thead th {\n        text-align: right;\n    }\n</style>\n<table border=\"1\" class=\"dataframe\">\n  <thead>\n    <tr style=\"text-align: right;\">\n      <th></th>\n      <th>model</th>\n      <th>grade</th>\n      <th>webuy_cash</th>\n      <th>low_margin %</th>\n      <th>mid_margin %</th>\n      <th>high_margin %</th>\n    </tr>\n  </thead>\n  <tbody>\n    <tr>\n      <th>0</th>\n      <td>Samsung Galaxy Tab A T280 7.0\" (2016) 8GB Blac...</td>\n      <td>C</td>\n      <td>WeBuy for cash £16.00</td>\n      <td>0.2</td>\n      <td>0.25</td>\n      <td>0.3</td>\n    </tr>\n    <tr>\n      <th>1</th>\n      <td>Samsung Galaxy A5 A510F (2016) 16GB Black, O2 A</td>\n      <td>A</td>\n      <td>WeBuy for cash £37.00</td>\n      <td>0.2</td>\n      <td>0.25</td>\n      <td>0.3</td>\n    </tr>\n    <tr>\n      <th>2</th>\n      <td>Samsung Galaxy A5 A520F (2017) 32GB Black, Unl...</td>\n      <td>C</td>\n      <td>WeBuy for cash £39.00</td>\n      <td>0.2</td>\n      <td>0.25</td>\n      <td>0.3</td>\n    </tr>\n    <tr>\n      <th>3</th>\n      <td>Samsung Galaxy A52s 5G Dual Sim (6GB+128GB) Aw...</td>\n      <td>C</td>\n      <td>WeBuy for cash £110.00</td>\n      <td>0.2</td>\n      <td>0.25</td>\n      <td>0.3</td>\n    </tr>\n    <tr>\n      <th>4</th>\n      <td>Samsung Galaxy A6 (2018) 32GB Black, Unlocked C</td>\n      <td>C</td>\n      <td>WeBuy for cash £43.00</td>\n      <td>0.2</td>\n      <td>0.25</td>\n      <td>0.3</td>\n    </tr>\n    <tr>\n      <th>5</th>\n      <td>Samsung Galaxy SM-T290 Tab A 8.0\" (2019) 32GB ...</td>\n      <td>A</td>\n      <td>WeBuy for cash £42.00</td>\n      <td>0.2</td>\n      <td>0.25</td>\n      <td>0.3</td>\n    </tr>\n    <tr>\n      <th>6</th>\n      <td>Samsung Galaxy Tab 3 SM-T211 7\" 8GB, Unlocked A</td>\n      <td>A</td>\n      <td>WeBuy for cash £19.00</td>\n      <td>0.2</td>\n      <td>0.25</td>\n      <td>0.3</td>\n    </tr>\n    <tr>\n      <th>7</th>\n      <td>Samsung Galaxy Note 10 Lite Dual Sim 128GB Aur...</td>\n      <td>C</td>\n      <td>WeBuy for cash £101.00</td>\n      <td>0.2</td>\n      <td>0.25</td>\n      <td>0.3</td>\n    </tr>\n  </tbody>\n</table>\n</div>"
     },
     "execution_count": 5,
     "metadata": {},
     "output_type": "execute_result"
    }
   ],
   "source": [
    "retrieve_data()"
   ],
   "metadata": {
    "collapsed": false,
    "pycharm": {
     "name": "#%%\n"
    }
   }
  },
  {
   "cell_type": "code",
   "execution_count": 11,
   "outputs": [],
   "source": [
    "def rearrange_data():\n",
    "\n",
    "    final_df = pd.concat([phone_list, retrieve_data()], axis=1)\n",
    "\n",
    "    # Converting text into numbers and calculations\n",
    "    # final_df['wesell'] = final_df['wesell'].str.replace('WeSell for £', '').astype(float)\n",
    "    final_df['webuy_cash'] = final_df['webuy_cash'].str.replace('WeBuy for cash £', '').astype(float)\n",
    "    # final_df['webuy_voucher'] = final_df['webuy_voucher'].str.replace('WeBuy for voucher £', '').astype(float)\n",
    "    final_df['low_margin_cost'] = final_df['webuy_cash'] * 0.80\n",
    "    final_df['mid_margin_cost'] = final_df['webuy_cash'] * 0.75\n",
    "    final_df['high_margin_cost'] = final_df['webuy_cash'] * 0.70\n",
    "    final_df['low_margin %'] = final_df['low_margin %'].map('{:.1%}'.format)\n",
    "    final_df['mid_margin %'] = final_df['mid_margin %'].map('{:.1%}'.format)\n",
    "    final_df['high_margin %'] = final_df['high_margin %'].map('{:.1%}'.format)\n",
    "\n",
    "    # Rename columns\n",
    "    final_df = final_df.rename(columns={'Name': 'Supplier_Name',\n",
    "                                        'Qty': 'Supplier_Qty',\n",
    "                                        'Cost': 'Supplier_Cost'})\n",
    "    final_df = final_df[[\n",
    "            'Supplier_Name',\n",
    "            'Capacity',\n",
    "            'Color',\n",
    "            'Grade',\n",
    "            'Supplier_Qty',\n",
    "            'Supplier_Cost',\n",
    "            'model',\n",
    "            'grade',\n",
    "            'webuy_cash',\n",
    "            'low_margin %',\n",
    "            'low_margin_cost',\n",
    "            'mid_margin %',\n",
    "            'mid_margin_cost',\n",
    "            'high_margin %',\n",
    "            'high_margin_cost'\n",
    "    ]]\n",
    "    # Close the web browser and return\n",
    "    # driver.quit()\n",
    "\n",
    "    return final_df"
   ],
   "metadata": {
    "collapsed": false,
    "pycharm": {
     "name": "#%%\n"
    }
   }
  },
  {
   "cell_type": "code",
   "execution_count": 12,
   "outputs": [
    {
     "name": "stderr",
     "output_type": "stream",
     "text": [
      "C:\\Users\\mrmra\\AppData\\Local\\Temp\\ipykernel_25100\\3301846072.py:90: FutureWarning: The frame.append method is deprecated and will be removed from pandas in a future version. Use pandas.concat instead.\n",
      "  main_df = main_df.append(first_row, ignore_index=True)\n",
      "C:\\Users\\mrmra\\AppData\\Local\\Temp\\ipykernel_25100\\3301846072.py:90: FutureWarning: The frame.append method is deprecated and will be removed from pandas in a future version. Use pandas.concat instead.\n",
      "  main_df = main_df.append(first_row, ignore_index=True)\n",
      "C:\\Users\\mrmra\\AppData\\Local\\Temp\\ipykernel_25100\\3301846072.py:90: FutureWarning: The frame.append method is deprecated and will be removed from pandas in a future version. Use pandas.concat instead.\n",
      "  main_df = main_df.append(first_row, ignore_index=True)\n",
      "C:\\Users\\mrmra\\AppData\\Local\\Temp\\ipykernel_25100\\3301846072.py:90: FutureWarning: The frame.append method is deprecated and will be removed from pandas in a future version. Use pandas.concat instead.\n",
      "  main_df = main_df.append(first_row, ignore_index=True)\n",
      "C:\\Users\\mrmra\\AppData\\Local\\Temp\\ipykernel_25100\\3301846072.py:90: FutureWarning: The frame.append method is deprecated and will be removed from pandas in a future version. Use pandas.concat instead.\n",
      "  main_df = main_df.append(first_row, ignore_index=True)\n",
      "C:\\Users\\mrmra\\AppData\\Local\\Temp\\ipykernel_25100\\3301846072.py:90: FutureWarning: The frame.append method is deprecated and will be removed from pandas in a future version. Use pandas.concat instead.\n",
      "  main_df = main_df.append(first_row, ignore_index=True)\n",
      "C:\\Users\\mrmra\\AppData\\Local\\Temp\\ipykernel_25100\\3301846072.py:90: FutureWarning: The frame.append method is deprecated and will be removed from pandas in a future version. Use pandas.concat instead.\n",
      "  main_df = main_df.append(first_row, ignore_index=True)\n",
      "C:\\Users\\mrmra\\AppData\\Local\\Temp\\ipykernel_25100\\3301846072.py:90: FutureWarning: The frame.append method is deprecated and will be removed from pandas in a future version. Use pandas.concat instead.\n",
      "  main_df = main_df.append(first_row, ignore_index=True)\n",
      "C:\\Users\\mrmra\\AppData\\Local\\Temp\\ipykernel_25100\\3301846072.py:90: FutureWarning: The frame.append method is deprecated and will be removed from pandas in a future version. Use pandas.concat instead.\n",
      "  main_df = main_df.append(first_row, ignore_index=True)\n"
     ]
    },
    {
     "data": {
      "text/plain": "               Supplier_Name Capacity  Color Grade  Supplier_Qty  \\\n0           Galaxy A31 A315G     64GB    NaN     C             8   \n1     Galaxy A5 (2016) A510F     16GB    NaN     A            16   \n2  Galaxy A5 (2017) SM-A520F     32GB    NaN     C            11   \n3       Galaxy A52s 5G A528B    128GB    NaN     C             8   \n4           Galaxy A6 A600FN     32GB    NaN     C            27   \n5           Galaxy J6 J600FN     32GB    NaN     A             6   \n6        Galaxy M11 SM-M115F     32GB    NaN     A            11   \n7        Galaxy M13 SM-M135F     64GB    NaN     A             6   \n8  Galaxy Note 10 Lite N770F    128GB    NaN     C            30   \n\n   Supplier_Cost                                              model grade  \\\n0     140.000000  Samsung Galaxy Tab A T280 7.0\" (2016) 8GB Blac...     C   \n1      56.050132    Samsung Galaxy A5 A510F (2016) 16GB Black, O2 A     A   \n2     102.758576  Samsung Galaxy A5 A520F (2017) 32GB Black, Unl...     C   \n3      65.000000  Samsung Galaxy A52s 5G Dual Sim (6GB+128GB) Aw...     C   \n4     500.000000    Samsung Galaxy A6 (2018) 32GB Black, Unlocked C     C   \n5     103.000000  Samsung Galaxy Xcover 5 Dual Sim 64GB Black, V...     A   \n6     103.000000  Samsung Galaxy SM-T290 Tab A 8.0\" (2019) 32GB ...     A   \n7      75.000000    Samsung Galaxy Tab 3 SM-T211 7\" 8GB, Unlocked A     A   \n8      75.000000  Samsung Galaxy Note 10 Lite Dual Sim 128GB Aur...     C   \n\n   webuy_cash low_margin %  low_margin_cost mid_margin %  mid_margin_cost  \\\n0        16.0        20.0%             12.8        25.0%            12.00   \n1        37.0        20.0%             29.6        25.0%            27.75   \n2        39.0        20.0%             31.2        25.0%            29.25   \n3       110.0        20.0%             88.0        25.0%            82.50   \n4        43.0        20.0%             34.4        25.0%            32.25   \n5        57.0        20.0%             45.6        25.0%            42.75   \n6        42.0        20.0%             33.6        25.0%            31.50   \n7        19.0        20.0%             15.2        25.0%            14.25   \n8       101.0        20.0%             80.8        25.0%            75.75   \n\n  high_margin %  high_margin_cost  \n0         30.0%              11.2  \n1         30.0%              25.9  \n2         30.0%              27.3  \n3         30.0%              77.0  \n4         30.0%              30.1  \n5         30.0%              39.9  \n6         30.0%              29.4  \n7         30.0%              13.3  \n8         30.0%              70.7  ",
      "text/html": "<div>\n<style scoped>\n    .dataframe tbody tr th:only-of-type {\n        vertical-align: middle;\n    }\n\n    .dataframe tbody tr th {\n        vertical-align: top;\n    }\n\n    .dataframe thead th {\n        text-align: right;\n    }\n</style>\n<table border=\"1\" class=\"dataframe\">\n  <thead>\n    <tr style=\"text-align: right;\">\n      <th></th>\n      <th>Supplier_Name</th>\n      <th>Capacity</th>\n      <th>Color</th>\n      <th>Grade</th>\n      <th>Supplier_Qty</th>\n      <th>Supplier_Cost</th>\n      <th>model</th>\n      <th>grade</th>\n      <th>webuy_cash</th>\n      <th>low_margin %</th>\n      <th>low_margin_cost</th>\n      <th>mid_margin %</th>\n      <th>mid_margin_cost</th>\n      <th>high_margin %</th>\n      <th>high_margin_cost</th>\n    </tr>\n  </thead>\n  <tbody>\n    <tr>\n      <th>0</th>\n      <td>Galaxy A31 A315G</td>\n      <td>64GB</td>\n      <td>NaN</td>\n      <td>C</td>\n      <td>8</td>\n      <td>140.000000</td>\n      <td>Samsung Galaxy Tab A T280 7.0\" (2016) 8GB Blac...</td>\n      <td>C</td>\n      <td>16.0</td>\n      <td>20.0%</td>\n      <td>12.8</td>\n      <td>25.0%</td>\n      <td>12.00</td>\n      <td>30.0%</td>\n      <td>11.2</td>\n    </tr>\n    <tr>\n      <th>1</th>\n      <td>Galaxy A5 (2016) A510F</td>\n      <td>16GB</td>\n      <td>NaN</td>\n      <td>A</td>\n      <td>16</td>\n      <td>56.050132</td>\n      <td>Samsung Galaxy A5 A510F (2016) 16GB Black, O2 A</td>\n      <td>A</td>\n      <td>37.0</td>\n      <td>20.0%</td>\n      <td>29.6</td>\n      <td>25.0%</td>\n      <td>27.75</td>\n      <td>30.0%</td>\n      <td>25.9</td>\n    </tr>\n    <tr>\n      <th>2</th>\n      <td>Galaxy A5 (2017) SM-A520F</td>\n      <td>32GB</td>\n      <td>NaN</td>\n      <td>C</td>\n      <td>11</td>\n      <td>102.758576</td>\n      <td>Samsung Galaxy A5 A520F (2017) 32GB Black, Unl...</td>\n      <td>C</td>\n      <td>39.0</td>\n      <td>20.0%</td>\n      <td>31.2</td>\n      <td>25.0%</td>\n      <td>29.25</td>\n      <td>30.0%</td>\n      <td>27.3</td>\n    </tr>\n    <tr>\n      <th>3</th>\n      <td>Galaxy A52s 5G A528B</td>\n      <td>128GB</td>\n      <td>NaN</td>\n      <td>C</td>\n      <td>8</td>\n      <td>65.000000</td>\n      <td>Samsung Galaxy A52s 5G Dual Sim (6GB+128GB) Aw...</td>\n      <td>C</td>\n      <td>110.0</td>\n      <td>20.0%</td>\n      <td>88.0</td>\n      <td>25.0%</td>\n      <td>82.50</td>\n      <td>30.0%</td>\n      <td>77.0</td>\n    </tr>\n    <tr>\n      <th>4</th>\n      <td>Galaxy A6 A600FN</td>\n      <td>32GB</td>\n      <td>NaN</td>\n      <td>C</td>\n      <td>27</td>\n      <td>500.000000</td>\n      <td>Samsung Galaxy A6 (2018) 32GB Black, Unlocked C</td>\n      <td>C</td>\n      <td>43.0</td>\n      <td>20.0%</td>\n      <td>34.4</td>\n      <td>25.0%</td>\n      <td>32.25</td>\n      <td>30.0%</td>\n      <td>30.1</td>\n    </tr>\n    <tr>\n      <th>5</th>\n      <td>Galaxy J6 J600FN</td>\n      <td>32GB</td>\n      <td>NaN</td>\n      <td>A</td>\n      <td>6</td>\n      <td>103.000000</td>\n      <td>Samsung Galaxy Xcover 5 Dual Sim 64GB Black, V...</td>\n      <td>A</td>\n      <td>57.0</td>\n      <td>20.0%</td>\n      <td>45.6</td>\n      <td>25.0%</td>\n      <td>42.75</td>\n      <td>30.0%</td>\n      <td>39.9</td>\n    </tr>\n    <tr>\n      <th>6</th>\n      <td>Galaxy M11 SM-M115F</td>\n      <td>32GB</td>\n      <td>NaN</td>\n      <td>A</td>\n      <td>11</td>\n      <td>103.000000</td>\n      <td>Samsung Galaxy SM-T290 Tab A 8.0\" (2019) 32GB ...</td>\n      <td>A</td>\n      <td>42.0</td>\n      <td>20.0%</td>\n      <td>33.6</td>\n      <td>25.0%</td>\n      <td>31.50</td>\n      <td>30.0%</td>\n      <td>29.4</td>\n    </tr>\n    <tr>\n      <th>7</th>\n      <td>Galaxy M13 SM-M135F</td>\n      <td>64GB</td>\n      <td>NaN</td>\n      <td>A</td>\n      <td>6</td>\n      <td>75.000000</td>\n      <td>Samsung Galaxy Tab 3 SM-T211 7\" 8GB, Unlocked A</td>\n      <td>A</td>\n      <td>19.0</td>\n      <td>20.0%</td>\n      <td>15.2</td>\n      <td>25.0%</td>\n      <td>14.25</td>\n      <td>30.0%</td>\n      <td>13.3</td>\n    </tr>\n    <tr>\n      <th>8</th>\n      <td>Galaxy Note 10 Lite N770F</td>\n      <td>128GB</td>\n      <td>NaN</td>\n      <td>C</td>\n      <td>30</td>\n      <td>75.000000</td>\n      <td>Samsung Galaxy Note 10 Lite Dual Sim 128GB Aur...</td>\n      <td>C</td>\n      <td>101.0</td>\n      <td>20.0%</td>\n      <td>80.8</td>\n      <td>25.0%</td>\n      <td>75.75</td>\n      <td>30.0%</td>\n      <td>70.7</td>\n    </tr>\n  </tbody>\n</table>\n</div>"
     },
     "execution_count": 12,
     "metadata": {},
     "output_type": "execute_result"
    }
   ],
   "source": [
    "rearrange_data()"
   ],
   "metadata": {
    "collapsed": false,
    "pycharm": {
     "name": "#%%\n"
    }
   }
  },
  {
   "cell_type": "code",
   "execution_count": null,
   "outputs": [],
   "source": [
    "def save_to_excel():\n",
    "    with xw.App(visible=False) as app:\n",
    "        wb = app.books.open('Template.xlsx')\n",
    "        wb.sheets['Sheet1'].range('A3').value = rearrange_data()\n",
    "        wb.sheets['Sheet1'].range('3:3').delete()\n",
    "        wb.save(\"CEX_Product_Price.xlsx\")"
   ],
   "metadata": {
    "collapsed": false,
    "pycharm": {
     "name": "#%%\n"
    }
   }
  },
  {
   "cell_type": "code",
   "execution_count": 8,
   "outputs": [],
   "source": [
    "def save_to_excel():\n",
    "    with xw.App(visible=False) as app:\n",
    "        wb = app.books.open('Template.xlsx')\n",
    "        wb.sheets['Sheet1'].range('A3').value = rearrange_data()\n",
    "        wb.sheets['Sheet1'].range('3:3').delete()\n",
    "        wb.save(\"CEX_Product_Price.xlsx\")"
   ],
   "metadata": {
    "collapsed": false,
    "pycharm": {
     "name": "#%%\n"
    }
   }
  },
  {
   "cell_type": "code",
   "execution_count": 10,
   "outputs": [
    {
     "name": "stderr",
     "output_type": "stream",
     "text": [
      "C:\\Users\\mrmra\\AppData\\Local\\Temp\\ipykernel_25100\\3301846072.py:90: FutureWarning: The frame.append method is deprecated and will be removed from pandas in a future version. Use pandas.concat instead.\n",
      "  main_df = main_df.append(first_row, ignore_index=True)\n",
      "C:\\Users\\mrmra\\AppData\\Local\\Temp\\ipykernel_25100\\3301846072.py:90: FutureWarning: The frame.append method is deprecated and will be removed from pandas in a future version. Use pandas.concat instead.\n",
      "  main_df = main_df.append(first_row, ignore_index=True)\n",
      "C:\\Users\\mrmra\\AppData\\Local\\Temp\\ipykernel_25100\\3301846072.py:90: FutureWarning: The frame.append method is deprecated and will be removed from pandas in a future version. Use pandas.concat instead.\n",
      "  main_df = main_df.append(first_row, ignore_index=True)\n",
      "C:\\Users\\mrmra\\AppData\\Local\\Temp\\ipykernel_25100\\3301846072.py:90: FutureWarning: The frame.append method is deprecated and will be removed from pandas in a future version. Use pandas.concat instead.\n",
      "  main_df = main_df.append(first_row, ignore_index=True)\n",
      "C:\\Users\\mrmra\\AppData\\Local\\Temp\\ipykernel_25100\\3301846072.py:90: FutureWarning: The frame.append method is deprecated and will be removed from pandas in a future version. Use pandas.concat instead.\n",
      "  main_df = main_df.append(first_row, ignore_index=True)\n",
      "C:\\Users\\mrmra\\AppData\\Local\\Temp\\ipykernel_25100\\3301846072.py:90: FutureWarning: The frame.append method is deprecated and will be removed from pandas in a future version. Use pandas.concat instead.\n",
      "  main_df = main_df.append(first_row, ignore_index=True)\n",
      "C:\\Users\\mrmra\\AppData\\Local\\Temp\\ipykernel_25100\\3301846072.py:90: FutureWarning: The frame.append method is deprecated and will be removed from pandas in a future version. Use pandas.concat instead.\n",
      "  main_df = main_df.append(first_row, ignore_index=True)\n",
      "C:\\Users\\mrmra\\AppData\\Local\\Temp\\ipykernel_25100\\3301846072.py:90: FutureWarning: The frame.append method is deprecated and will be removed from pandas in a future version. Use pandas.concat instead.\n",
      "  main_df = main_df.append(first_row, ignore_index=True)\n",
      "C:\\Users\\mrmra\\AppData\\Local\\Temp\\ipykernel_25100\\3301846072.py:90: FutureWarning: The frame.append method is deprecated and will be removed from pandas in a future version. Use pandas.concat instead.\n",
      "  main_df = main_df.append(first_row, ignore_index=True)\n"
     ]
    }
   ],
   "source": [
    "def save_to_excel():\n",
    "    with xw.App(visible=False) as app:\n",
    "        wb = app.books.open('Template.xlsx')\n",
    "        wb.sheets['Sheet1'].range('A3').value = rearrange_data()\n",
    "        wb.sheets['Sheet1'].range('3:3').delete()\n",
    "        wb.save(\"CEX_Product_Price.xlsx\")"
   ],
   "metadata": {
    "collapsed": false,
    "pycharm": {
     "name": "#%%\n"
    }
   }
  },
  {
   "cell_type": "code",
   "execution_count": null,
   "outputs": [],
   "source": [
    "save_to_excel()"
   ],
   "metadata": {
    "collapsed": false,
    "pycharm": {
     "name": "#%%\n"
    }
   }
  },
  {
   "cell_type": "code",
   "execution_count": null,
   "outputs": [],
   "source": [],
   "metadata": {
    "collapsed": false,
    "pycharm": {
     "name": "#%%\n"
    }
   }
  },
  {
   "cell_type": "markdown",
   "source": [
    "<h4>Tkinter GUI</h4>"
   ],
   "metadata": {
    "collapsed": false,
    "pycharm": {
     "name": "#%% md\n"
    }
   }
  },
  {
   "cell_type": "code",
   "execution_count": 3,
   "outputs": [],
   "source": [
    "class CexBot:\n",
    "\n",
    "    def __init__(self):\n",
    "\n",
    "        self.root = tk.Tk()\n",
    "\n",
    "        self.Label = tk.Label(self.root, text=\"CEX Price Updater\", font=('Arial', 18))\n",
    "        self.Label.pack(pady=10, padx=10)\n",
    "\n",
    "        # input file path variable\n",
    "        self.label_file_path = tk.Label(self.root, text='')\n",
    "\n",
    "        self.select_button = tk.Button(self.root, text=\"Select File\", font=(\"Arial\", 18),\n",
    "                                       command=self.select_file, bg='lightblue')\n",
    "        self.select_button.pack(padx=10, pady=10)\n",
    "\n",
    "        # output file save location variable\n",
    "        self.output_save_location = tk.Label(self.root, text='')\n",
    "\n",
    "        self.update_button = tk.Button(self.root, text=\"Update & Save\", font=(\"Arial\", 18),\n",
    "                                       command=self.update_and_save, bg='lightblue')\n",
    "        self.update_button.pack(padx=10, pady=10)\n",
    "\n",
    "        # Progress bar\n",
    "        self.my_progress = ttk.Progressbar(self.root, orient='horizontal',\n",
    "                                           length=300, mode='indeterminate')\n",
    "        self.my_progress.pack(pady=20)\n",
    "\n",
    "        self.root.mainloop()\n",
    "\n",
    "    def select_file(self):\n",
    "        file_path = filedialog.askopenfilename(title='Select Input File',\n",
    "                                               filetypes=((\"xlsx files\", \"*.xlsx\"), (\"All Files\", \"*.*\"))\n",
    "                                               )\n",
    "        self.label_file_path[\"text\"] = file_path\n",
    "        return None\n",
    "\n",
    "    def update_and_save(self):\n",
    "\n",
    "        # progress bar starting\n",
    "        self.my_progress.start(10)\n",
    "        self.root.update_idletasks()\n",
    "\n",
    "        # Save location\n",
    "        save_folder = filedialog.askdirectory(title=\"Select a folder to Save\")\n",
    "        self.output_save_location[\"text\"] = save_folder\n",
    "        save_location = self.output_save_location[\"text\"]\n",
    "        save_folder_location = r\"{}\".format(save_location)\n",
    "\n",
    "        # Read the phone model list to get the price\n",
    "        excel_file_path = self.label_file_path[\"text\"]\n",
    "\n",
    "        try:\n",
    "            # excel_file_name = r\"{}\".format(excel_file_path)\n",
    "            # phone_list = pd.read_csv(excel_file_name)\n",
    "            phone_list = pd.read_csv(\"stock.csv\")\n",
    "\n",
    "        except ValueError:\n",
    "            tk.messagebox.showerror(\"Information\", \"The file you have entered is invalid\")\n",
    "            self.my_progress.stop()\n",
    "            return None\n",
    "        except FileNotFoundError:\n",
    "            tk.messagebox.showerror(\"Information\", f\"No such file as {excel_file_path}\")\n",
    "            self.my_progress.stop()\n",
    "            return None\n",
    "\n",
    "        def retrieve_data():\n",
    "            # Initialize the COM subsystem\n",
    "            pythoncom.CoInitialize()\n",
    "\n",
    "            main_df = pd.DataFrame(columns=['model',\n",
    "                                            'category',\n",
    "                                            'grade',\n",
    "                                            'wesell',\n",
    "                                            'webuy_cash',\n",
    "                                            'webuy_voucher',\n",
    "                                            'low_margin %',\n",
    "                                            'mid_margin %',\n",
    "                                            'high_margin %'])\n",
    "\n",
    "            for i, row in phone_list.iterrows():\n",
    "                website = f\"https://uk.webuy.com/search?stext=+{row[0]}&Grade=C\"\n",
    "\n",
    "                # Selenium and Chrome webscraping configs\n",
    "                # options = webdriver.ChromeOptions()\n",
    "                # chrome_options = ChromeOptions()\n",
    "                # chrome_options.add_argument('--headless')\n",
    "                # chrome_options.add_argument('--disable-gpu')\n",
    "                # options.add_experimental_option(\"detach\", False)\n",
    "                # driver = webdriver.Chrome(options=options)\n",
    "                # driver.get(website)\n",
    "\n",
    "                # headless chrome option\n",
    "                user_agent = \"Mozilla/5.0 (Windows NT 10.0; Win64; x64; rv:109.0) Gecko/20100101 Firefox/110.0\"\n",
    "\n",
    "                options = webdriver.ChromeOptions()\n",
    "                # options.headless = True\n",
    "                options.add_argument('--headless')\n",
    "                options.add_argument(f'user-agent={user_agent}')\n",
    "                options.add_argument(\"--window-size=1920,1080\")\n",
    "                options.add_argument('--ignore-certificate-errors')\n",
    "                options.add_argument('--allow-running-insecure-content')\n",
    "                options.add_argument(\"--disable-extensions\")\n",
    "                options.add_argument(\"--proxy-server='direct://'\")\n",
    "                options.add_argument(\"--proxy-bypass-list=*\")\n",
    "                options.add_argument(\"--start-maximized\")\n",
    "                options.add_argument('--disable-gpu')\n",
    "                options.add_argument('--disable-dev-shm-usage')\n",
    "                options.add_argument('--no-sandbox')\n",
    "                # driver = webdriver.Chrome(executable_path=\"chromedriver.exe\", options=options)\n",
    "                driver = webdriver.Chrome(options=options)\n",
    "                driver.get(website)\n",
    "\n",
    "                # Wait for the cookie acceptance button to be visible\n",
    "                wait = WebDriverWait(driver, 10)\n",
    "                cookie_button = wait.until(EC.visibility_of_element_located((By.ID, \"onetrust-accept-btn-handler\")))\n",
    "\n",
    "                # Click the acceptance button\n",
    "                cookie_button.click()\n",
    "\n",
    "                # Extracting the data from the website\n",
    "                phone_models = driver.find_elements(By.XPATH, \"//div[@class='desc']\")\n",
    "\n",
    "                # List to append the extracted data\n",
    "                model = []\n",
    "                device = []\n",
    "                grade = []\n",
    "                wesell = []\n",
    "                webuy_cash = []\n",
    "                webuy_voucher = []\n",
    "                low_margin = []\n",
    "                mid_margin = []\n",
    "                high_margin = []\n",
    "\n",
    "                # Looping through each phone search results to get the values\n",
    "                for models in phone_models:\n",
    "                    model.append(models.find_element(By.XPATH, \".//span[@class='ais-Highlight']\").text)\n",
    "                    device.append(models.find_element(By.XPATH, \"./p\").text)\n",
    "                    grade.append('C')\n",
    "                    wesell.append(models.find_element(By.XPATH, \".//div[starts-with(@class,'priceTxt') and starts-with(text(),'WeSell for')]\").text)\n",
    "                    webuy_cash.append(models.find_element(By.XPATH, \".//div[starts-with(@class,'priceTxt') and starts-with(text(),'WeBuy for cash')]\").text)\n",
    "                    webuy_voucher.append(models.find_element(By.XPATH, \".//div[starts-with(@class,'priceTxt') and starts-with(text(),'WeBuy for voucher')]\").text)\n",
    "                    low_margin.append(0.20)\n",
    "                    mid_margin.append(0.25)\n",
    "                    high_margin.append(0.30)\n",
    "\n",
    "                # Rearranging the data into a data frame\n",
    "                df = pd.DataFrame({'model': model,\n",
    "                                   'category': device,\n",
    "                                   'grade': grade,\n",
    "                                   'wesell': wesell,\n",
    "                                   'webuy_cash': webuy_cash,\n",
    "                                   'webuy_voucher': webuy_voucher,\n",
    "                                   'low_margin %': low_margin,\n",
    "                                   'mid_margin %': mid_margin,\n",
    "                                   'high_margin %': high_margin})\n",
    "\n",
    "                first_row = df[:1]\n",
    "\n",
    "                main_df = main_df.append(first_row, ignore_index=True)\n",
    "\n",
    "            def rearrange_data():\n",
    "\n",
    "                final_df = pd.concat([phone_list, main_df], axis=1)\n",
    "\n",
    "                # Converting text into numbers and calculations\n",
    "                final_df['wesell'] = final_df['wesell'].str.replace('WeSell for £', '').astype(float)\n",
    "                final_df['webuy_cash'] = final_df['webuy_cash'].str.replace('WeBuy for cash £', '').astype(float)\n",
    "                final_df['webuy_voucher'] = final_df['webuy_voucher'].str.replace('WeBuy for voucher £', '').astype(float)\n",
    "                final_df['low_margin_cost'] = final_df['webuy_cash'] * 0.80\n",
    "                final_df['mid_margin_cost'] = final_df['webuy_cash'] * 0.75\n",
    "                final_df['high_margin_cost'] = final_df['webuy_cash'] * 0.70\n",
    "                final_df['low_margin %'] = final_df['low_margin %'].map('{:.1%}'.format)\n",
    "                final_df['mid_margin %'] = final_df['mid_margin %'].map('{:.1%}'.format)\n",
    "                final_df['high_margin %'] = final_df['high_margin %'].map('{:.1%}'.format)\n",
    "\n",
    "                # Rename columns\n",
    "                final_df = final_df.rename(columns={'Name': 'Supplier_Name',\n",
    "                                                    'Qty': 'Supplier_Qty',\n",
    "                                                    'Cost': 'Supplier_Cost'})\n",
    "                # Close the web browser and return\n",
    "                driver.quit()\n",
    "                return final_df\n",
    "\n",
    "            # export the file into preformatted excel\n",
    "            def save_to_excel():\n",
    "                with xw.App(visible=False) as app:\n",
    "                    wb = app.books.open('Template.xlsx')\n",
    "                    wb.sheets['Sheet1'].range('A3').value = rearrange_data()\n",
    "                    wb.sheets['Sheet1'].range('3:3').delete()\n",
    "                    wb.save(f\"{save_folder_location}/CEX_Product_Price.xlsx\")\n",
    "\n",
    "            try:\n",
    "                retrieve_data()\n",
    "                rearrange_data()\n",
    "                save_to_excel()\n",
    "                self.my_progress.stop()\n",
    "            except:\n",
    "                tk.messagebox.showerror(\"Information\", \"Error occured during Excel conversion!\")\n",
    "                self.my_progress.stop()\n",
    "                return None\n",
    "\n",
    "            tk.messagebox.showinfo(\"Information\", 'Updated & File Saved Successfully!')\n",
    "\n",
    "            # Uninitialize the COM subsystem\n",
    "            pythoncom.CoUninitialize()\n"
   ],
   "metadata": {
    "collapsed": false,
    "pycharm": {
     "name": "#%%\n"
    }
   }
  },
  {
   "cell_type": "code",
   "execution_count": null,
   "outputs": [],
   "source": [
    "CexBot()\n"
   ],
   "metadata": {
    "collapsed": false,
    "pycharm": {
     "name": "#%%\n"
    }
   }
  },
  {
   "cell_type": "code",
   "execution_count": 3,
   "id": "ab3d658b",
   "metadata": {},
   "outputs": [],
   "source": [
    "def retrieve_data():\n",
    "    # Initialize the COM subsystem\n",
    "    pythoncom.CoInitialize()\n",
    "\n",
    "    main_df = pd.DataFrame(columns=['model',\n",
    "                                    'category',\n",
    "                                    'grade',\n",
    "                                    'wesell',\n",
    "                                    'webuy_cash',\n",
    "                                    'webuy_voucher',\n",
    "                                    'low_margin %',\n",
    "                                    'mid_margin %',\n",
    "                                    'high_margin %'])\n",
    "\n",
    "\n",
    "\n",
    "    for i, row in phone_list.iterrows():\n",
    "        website = f\"https://uk.webuy.com/search?stext=+{row[0]}&Grade=C\"\n",
    "        \n",
    "        # Selenium and Chrome webscraping configs\n",
    "\n",
    "         # headless chrome option\n",
    "        user_agent = \"Mozilla/5.0 (Windows NT 10.0; Win64; x64; rv:109.0) Gecko/20100101 Firefox/110.0\"\n",
    "\n",
    "        options = webdriver.ChromeOptions()\n",
    "        # options.headless = True\n",
    "        options.add_argument('--headless')\n",
    "        options.add_argument(f'user-agent={user_agent}')\n",
    "        options.add_argument(\"--window-size=1920,1080\")\n",
    "        options.add_argument('--ignore-certificate-errors')\n",
    "        options.add_argument('--allow-running-insecure-content')\n",
    "        options.add_argument(\"--disable-extensions\")\n",
    "        options.add_argument(\"--proxy-server='direct://'\")\n",
    "        options.add_argument(\"--proxy-bypass-list=*\")\n",
    "        options.add_argument(\"--start-maximized\")\n",
    "        options.add_argument('--disable-gpu')\n",
    "        options.add_argument('--disable-dev-shm-usage')\n",
    "        options.add_argument('--no-sandbox')\n",
    "        # driver = webdriver.Chrome(executable_path=\"chromedriver.exe\", options=options)\n",
    "        driver = webdriver.Chrome(options=options)\n",
    "        driver.get(website)\n",
    "\n",
    "        # Wait for the cookie acceptance button to be visible\n",
    "        wait = WebDriverWait(driver, 10)\n",
    "        cookie_button = wait.until(EC.visibility_of_element_located((By.ID, \"onetrust-accept-btn-handler\")))\n",
    "\n",
    "        # Click the acceptance button\n",
    "        cookie_button.click()\n",
    "\n",
    "        # Extracting the data from the website\n",
    "        phone_models = driver.find_elements(By.XPATH, \"//div[@class='desc']\")\n",
    "\n",
    "        # List to append the extracted data\n",
    "        model = []\n",
    "        device = []\n",
    "        grade = []\n",
    "        wesell = []\n",
    "        webuy_cash = []\n",
    "        webuy_voucher = []\n",
    "        low_margin = []\n",
    "        mid_margin = []\n",
    "        high_margin = []\n",
    "\n",
    "        # Looping through each phone search results to get the values\n",
    "        for models in phone_models:\n",
    "            model.append(models.find_element(By.XPATH, \".//span[@class='ais-Highlight']\").text)\n",
    "            device.append(models.find_element(By.XPATH, \"./p\").text)\n",
    "            grade.append('C')\n",
    "            wesell.append(models.find_element(By.XPATH, \".//div[starts-with(@class,'priceTxt') and starts-with(text(),'WeSell for')]\").text)\n",
    "            webuy_cash.append(models.find_element(By.XPATH, \".//div[starts-with(@class,'priceTxt') and starts-with(text(),'WeBuy for cash')]\").text)\n",
    "            webuy_voucher.append(models.find_element(By.XPATH, \".//div[starts-with(@class,'priceTxt') and starts-with(text(),'WeBuy for voucher')]\").text)\n",
    "            low_margin.append(0.20)\n",
    "            mid_margin.append(0.25)\n",
    "            high_margin.append(0.30)\n",
    "\n",
    "        # Rearranging the data into a data frame\n",
    "        df = pd.DataFrame({'model': model,\n",
    "                           'category': device,\n",
    "                           'grade': grade,\n",
    "                           'wesell': wesell,\n",
    "                           'webuy_cash': webuy_cash,\n",
    "                           'webuy_voucher': webuy_voucher,\n",
    "                           'low_margin %': low_margin,\n",
    "                           'mid_margin %': mid_margin,\n",
    "                           'high_margin %': high_margin})\n",
    "\n",
    "        first_row = df[:1]\n",
    "\n",
    "        main_df = main_df.append(first_row, ignore_index=True)\n",
    "        \n",
    "    return main_df"
   ]
  },
  {
   "cell_type": "code",
   "execution_count": null,
   "id": "0f785dad",
   "metadata": {},
   "outputs": [],
   "source": [
    "retrieve_data()"
   ]
  },
  {
   "cell_type": "code",
   "execution_count": null,
   "id": "f0e333a8",
   "metadata": {},
   "outputs": [],
   "source": []
  }
 ],
 "metadata": {
  "kernelspec": {
   "display_name": "Python 3 (ipykernel)",
   "language": "python",
   "name": "python3"
  },
  "language_info": {
   "codemirror_mode": {
    "name": "ipython",
    "version": 3
   },
   "file_extension": ".py",
   "mimetype": "text/x-python",
   "name": "python",
   "nbconvert_exporter": "python",
   "pygments_lexer": "ipython3",
   "version": "3.10.1"
  }
 },
 "nbformat": 4,
 "nbformat_minor": 5
}